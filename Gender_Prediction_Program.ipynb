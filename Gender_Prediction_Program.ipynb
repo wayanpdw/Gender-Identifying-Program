{
  "nbformat": 4,
  "nbformat_minor": 0,
  "metadata": {
    "colab": {
      "name": "Gender Prediction Program.ipynb",
      "provenance": [],
      "collapsed_sections": [],
      "authorship_tag": "ABX9TyPcwFhD0baIQXpNWCC3CwAO",
      "include_colab_link": true
    },
    "kernelspec": {
      "name": "python3",
      "display_name": "Python 3"
    }
  },
  "cells": [
    {
      "cell_type": "markdown",
      "metadata": {
        "id": "view-in-github",
        "colab_type": "text"
      },
      "source": [
        "<a href=\"https://colab.research.google.com/github/wayanpdw/Gender-Identifying-Program/blob/master/Gender_Prediction_Program.ipynb\" target=\"_parent\"><img src=\"https://colab.research.google.com/assets/colab-badge.svg\" alt=\"Open In Colab\"/></a>"
      ]
    },
    {
      "cell_type": "code",
      "metadata": {
        "id": "r-iZc3oikhYN",
        "outputId": "94dc4acc-3c72-4999-c5ea-a1e237144fe6",
        "colab": {
          "base_uri": "https://localhost:8080/",
          "height": 204
        }
      },
      "source": [
        "# Gender Prediction Program\n",
        "\n",
        "from sklearn import tree\n",
        "print(\"\\n=========================\")\n",
        "print(\"GENDER IDENTIFYING PRORAM\\n\")\n",
        "#[height, weight, shoe size]\n",
        "X = [[181,80,44], [165, 70, 41], [177,70,43], [160,60,38], [154,54,37], [166,65,40], [190,90,45], [154,44,38]]\n",
        "Y = ['Laki-Laki', 'Laki-Laki', 'Laki-Laki', 'Perempuan', 'Perempuan', 'Perempuan', 'Laki-Laki', 'Perempuan']\n",
        "\n",
        "clf = tree.DecisionTreeClassifier()\n",
        "\n",
        "clf = clf.fit(X,Y)\n",
        "\n",
        "Tinggi = int(input(\"Masukan Tinggi Badan : \"))\n",
        "Berat = int(input(\"Masukan Berat Badan : \"))\n",
        "Sepatu = int(input(\"Masukan Ukuran Sepatu : \"))\n",
        "\n",
        "prediction = clf.predict([[Tinggi,Berat,Sepatu]])\n",
        "print(\"\\nPrediksi gender: \", prediction, \"\")\n",
        "print(\"=========================\\n\")\n"
      ],
      "execution_count": 1,
      "outputs": [
        {
          "output_type": "stream",
          "text": [
            "\n",
            "=========================\n",
            "GENDER IDENTIFYING PRORAM\n",
            "\n",
            "Masukan Tinggi Badan : 80\n",
            "Masukan Berat Badan : 70\n",
            "Masukan Ukuran Sepatu : 43\n",
            "\n",
            "Prediksi gender:  ['Laki-Laki'] \n",
            "=========================\n",
            "\n"
          ],
          "name": "stdout"
        }
      ]
    }
  ]
}